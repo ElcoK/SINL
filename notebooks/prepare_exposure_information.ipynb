{
 "cells": [
  {
   "cell_type": "code",
   "execution_count": 1,
   "id": "3b87591a-9d40-4f3f-a654-ec711639c131",
   "metadata": {},
   "outputs": [],
   "source": [
    "import os\n",
    "import pandas as pd\n",
    "import numpy as np\n",
    "import geopandas as gpd\n",
    "import pygeos\n",
    "from osgeo import ogr,gdal\n",
    "from tqdm import tqdm\n",
    "gdal.SetConfigOption(\"OSM_CONFIG_FILE\", os.path.join('..',\"osmconf.ini\"))\n",
    "from pygeos import from_wkb\n"
   ]
  },
  {
   "cell_type": "code",
   "execution_count": 2,
   "id": "ceebdbf4-b0a1-4f45-9fc7-15d58c6a10fa",
   "metadata": {},
   "outputs": [],
   "source": [
    "def query_b(geoType,keyCol,**valConstraint):\n",
    "    \"\"\"\n",
    "    This function builds an SQL query from the values passed to the retrieve() function.\n",
    "    Arguments:\n",
    "         *geoType* : Type of geometry (osm layer) to search for.\n",
    "         *keyCol* : A list of keys/columns that should be selected from the layer.\n",
    "         ***valConstraint* : A dictionary of constraints for the values. e.g. WHERE 'value'>20 or 'value'='constraint'\n",
    "    Returns:\n",
    "        *string: : a SQL query string.\n",
    "    \"\"\"\n",
    "    query = \"SELECT \" + \"osm_id\"\n",
    "    for a in keyCol: query+= \",\"+ a  \n",
    "    query += \" FROM \" + geoType + \" WHERE \"\n",
    "    # If there are values in the dictionary, add constraint clauses\n",
    "    if valConstraint: \n",
    "        for a in [*valConstraint]:\n",
    "            # For each value of the key, add the constraint\n",
    "            for b in valConstraint[a]: query += a + b\n",
    "        query+= \" AND \"\n",
    "    # Always ensures the first key/col provided is not Null.\n",
    "    query+= \"\"+str(keyCol[0]) +\" IS NOT NULL\" \n",
    "    return query \n",
    "\n",
    "\n",
    "def retrieve(osm_path,geoType,keyCol,**valConstraint):\n",
    "    \"\"\"\n",
    "    Function to extract specified geometry and keys/values from OpenStreetMap\n",
    "    Arguments:\n",
    "        *osm_path* : file path to the .osm.pbf file of the region \n",
    "        for which we want to do the analysis.     \n",
    "        *geoType* : Type of Geometry to retrieve. e.g. lines, multipolygons, etc.\n",
    "        *keyCol* : These keys will be returned as columns in the dataframe.\n",
    "        ***valConstraint: A dictionary specifiying the value constraints.  \n",
    "        A key can have multiple values (as a list) for more than one constraint for key/value.  \n",
    "    Returns:\n",
    "        *GeoDataFrame* : a geopandas GeoDataFrame with all columns, geometries, and constraints specified.    \n",
    "    \"\"\"\n",
    "    driver=ogr.GetDriverByName('OSM')\n",
    "    data = driver.Open(osm_path)\n",
    "    query = query_b(geoType,keyCol,**valConstraint)\n",
    "    sql_lyr = data.ExecuteSQL(query)\n",
    "    features =[]\n",
    "    # cl = columns \n",
    "    cl = ['osm_id'] \n",
    "    for a in keyCol: \n",
    "        cl.append(a)\n",
    "    if data is not None:\n",
    "        print('query is finished, lets start the loop')\n",
    "        for feature in tqdm(sql_lyr,desc='extract'):\n",
    "            try:\n",
    "                if feature.GetField(keyCol[0]) is not None:\n",
    "                    geom = pygeos.from_wkt(feature.geometry().ExportToWkt()) \n",
    "                    if geom is None:\n",
    "                        continue\n",
    "                    # field will become a row in the dataframe.\n",
    "                    field = []\n",
    "                    for i in cl: field.append(feature.GetField(i))\n",
    "                    field.append(geom)   \n",
    "                    features.append(field)\n",
    "            except:\n",
    "                print(\"WARNING: skipped OSM feature\")   \n",
    "    else:\n",
    "        print(\"ERROR: Nonetype error when requesting SQL. Check required.\")    \n",
    "    \n",
    "    cl.append('geometry')                   \n",
    "    if len(features) > 0:\n",
    "        return pd.DataFrame(features,columns=cl)\n",
    "    else:\n",
    "        print(\"WARNING: No features or No Memory. returning empty GeoDataFrame\") \n",
    "        return pd.DataFrame(columns=['osm_id','geometry'])\n",
    "\n",
    "def buildings(osm_path):\n",
    "    \"\"\"\n",
    "    Function to extract building polygons from OpenStreetMap    \n",
    "    Arguments:\n",
    "        *osm_path* : file path to the .osm.pbf file of the region \n",
    "        for which we want to do the analysis.        \n",
    "    Returns:\n",
    "        *GeoDataFrame* : a geopandas GeoDataFrame with all unique building polygons.    \n",
    "    \"\"\"\n",
    "    return retrieve(osm_path, 'multipolygons',['building'])"
   ]
  },
  {
   "cell_type": "code",
   "execution_count": 3,
   "id": "0c565a9e-0d84-4e5e-80d4-688f40580fad",
   "metadata": {},
   "outputs": [],
   "source": [
    "provinces = [x for x in os.listdir(os.path.join(\"C:\\\\Data\",'OSM','PBF')) if 'netherlands' not in x]"
   ]
  },
  {
   "cell_type": "code",
   "execution_count": 16,
   "id": "5ece2877-d904-46ce-965a-f924550b4601",
   "metadata": {},
   "outputs": [
    {
     "data": {
      "text/plain": [
       "'zuid-holland-latest.osm.pbf'"
      ]
     },
     "execution_count": 16,
     "metadata": {},
     "output_type": "execute_result"
    }
   ],
   "source": [
    "provinces[11]"
   ]
  },
  {
   "cell_type": "code",
   "execution_count": 17,
   "id": "0325f354-6ea9-496d-87f4-d780cfb17fd0",
   "metadata": {},
   "outputs": [
    {
     "name": "stdout",
     "output_type": "stream",
     "text": [
      "query is finished, lets start the loop\n"
     ]
    },
    {
     "name": "stderr",
     "output_type": "stream",
     "text": [
      "extract: 100%|█████████████████████████████████████████████████████████████| 1803281/1803281 [07:30<00:00, 4005.97it/s]\n"
     ]
    }
   ],
   "source": [
    "#for province in provinces:\n",
    "province = provinces[11]\n",
    "osm_path = os.path.join(\"C:\\\\Data\",'OSM','PBF',province)\n",
    "df = buildings(osm_path)\n",
    "df = df.drop('osm_id',axis=1)\n",
    "\n",
    "province_name = province.split(\"-\")[0]+'_'+province.split(\"-\")[1]\n",
    "df.geometry = pygeos.to_wkb(df.geometry.values)\n",
    "df.to_feather(os.path.join(\"C:\\\\Data\",'OSM','feather',\"{}.ft\".format(province_name)))"
   ]
  },
  {
   "cell_type": "code",
   "execution_count": 10,
   "id": "d377c19b-916b-44d6-ac85-f2c7de5f2373",
   "metadata": {},
   "outputs": [
    {
     "data": {
      "text/plain": [
       "'limburg-latest.osm.pbf'"
      ]
     },
     "execution_count": 10,
     "metadata": {},
     "output_type": "execute_result"
    }
   ],
   "source": [
    "provinces[5]"
   ]
  },
  {
   "cell_type": "code",
   "execution_count": 15,
   "id": "6c37afff-f9cb-444e-bd59-4355f287bad3",
   "metadata": {},
   "outputs": [
    {
     "data": {
      "text/html": [
       "<div>\n",
       "<style scoped>\n",
       "    .dataframe tbody tr th:only-of-type {\n",
       "        vertical-align: middle;\n",
       "    }\n",
       "\n",
       "    .dataframe tbody tr th {\n",
       "        vertical-align: top;\n",
       "    }\n",
       "\n",
       "    .dataframe thead th {\n",
       "        text-align: right;\n",
       "    }\n",
       "</style>\n",
       "<table border=\"1\" class=\"dataframe\">\n",
       "  <thead>\n",
       "    <tr style=\"text-align: right;\">\n",
       "      <th></th>\n",
       "      <th>building</th>\n",
       "      <th>geometry</th>\n",
       "    </tr>\n",
       "  </thead>\n",
       "  <tbody>\n",
       "    <tr>\n",
       "      <th>0</th>\n",
       "      <td>house</td>\n",
       "      <td>b'\\x01\\x06\\x00\\x00\\x00\\x01\\x00\\x00\\x00\\x01\\x03...</td>\n",
       "    </tr>\n",
       "    <tr>\n",
       "      <th>1</th>\n",
       "      <td>yes</td>\n",
       "      <td>b'\\x01\\x06\\x00\\x00\\x00\\x01\\x00\\x00\\x00\\x01\\x03...</td>\n",
       "    </tr>\n",
       "    <tr>\n",
       "      <th>2</th>\n",
       "      <td>yes</td>\n",
       "      <td>b'\\x01\\x06\\x00\\x00\\x00\\x01\\x00\\x00\\x00\\x01\\x03...</td>\n",
       "    </tr>\n",
       "    <tr>\n",
       "      <th>3</th>\n",
       "      <td>yes</td>\n",
       "      <td>b'\\x01\\x06\\x00\\x00\\x00\\x01\\x00\\x00\\x00\\x01\\x03...</td>\n",
       "    </tr>\n",
       "    <tr>\n",
       "      <th>4</th>\n",
       "      <td>commercial</td>\n",
       "      <td>b'\\x01\\x06\\x00\\x00\\x00\\x01\\x00\\x00\\x00\\x01\\x03...</td>\n",
       "    </tr>\n",
       "    <tr>\n",
       "      <th>...</th>\n",
       "      <td>...</td>\n",
       "      <td>...</td>\n",
       "    </tr>\n",
       "    <tr>\n",
       "      <th>1448314</th>\n",
       "      <td>construction</td>\n",
       "      <td>b\"\\x01\\x06\\x00\\x00\\x00\\x01\\x00\\x00\\x00\\x01\\x03...</td>\n",
       "    </tr>\n",
       "    <tr>\n",
       "      <th>1448315</th>\n",
       "      <td>yes</td>\n",
       "      <td>b'\\x01\\x06\\x00\\x00\\x00\\x01\\x00\\x00\\x00\\x01\\x03...</td>\n",
       "    </tr>\n",
       "    <tr>\n",
       "      <th>1448316</th>\n",
       "      <td>yes</td>\n",
       "      <td>b'\\x01\\x06\\x00\\x00\\x00\\x01\\x00\\x00\\x00\\x01\\x03...</td>\n",
       "    </tr>\n",
       "    <tr>\n",
       "      <th>1448317</th>\n",
       "      <td>yes</td>\n",
       "      <td>b'\\x01\\x06\\x00\\x00\\x00\\x01\\x00\\x00\\x00\\x01\\x03...</td>\n",
       "    </tr>\n",
       "    <tr>\n",
       "      <th>1448318</th>\n",
       "      <td>roof</td>\n",
       "      <td>b\"\\x01\\x06\\x00\\x00\\x00\\x01\\x00\\x00\\x00\\x01\\x03...</td>\n",
       "    </tr>\n",
       "  </tbody>\n",
       "</table>\n",
       "<p>1448319 rows × 2 columns</p>\n",
       "</div>"
      ],
      "text/plain": [
       "             building                                           geometry\n",
       "0               house  b'\\x01\\x06\\x00\\x00\\x00\\x01\\x00\\x00\\x00\\x01\\x03...\n",
       "1                 yes  b'\\x01\\x06\\x00\\x00\\x00\\x01\\x00\\x00\\x00\\x01\\x03...\n",
       "2                 yes  b'\\x01\\x06\\x00\\x00\\x00\\x01\\x00\\x00\\x00\\x01\\x03...\n",
       "3                 yes  b'\\x01\\x06\\x00\\x00\\x00\\x01\\x00\\x00\\x00\\x01\\x03...\n",
       "4          commercial  b'\\x01\\x06\\x00\\x00\\x00\\x01\\x00\\x00\\x00\\x01\\x03...\n",
       "...               ...                                                ...\n",
       "1448314  construction  b\"\\x01\\x06\\x00\\x00\\x00\\x01\\x00\\x00\\x00\\x01\\x03...\n",
       "1448315           yes  b'\\x01\\x06\\x00\\x00\\x00\\x01\\x00\\x00\\x00\\x01\\x03...\n",
       "1448316           yes  b'\\x01\\x06\\x00\\x00\\x00\\x01\\x00\\x00\\x00\\x01\\x03...\n",
       "1448317           yes  b'\\x01\\x06\\x00\\x00\\x00\\x01\\x00\\x00\\x00\\x01\\x03...\n",
       "1448318          roof  b\"\\x01\\x06\\x00\\x00\\x00\\x01\\x00\\x00\\x00\\x01\\x03...\n",
       "\n",
       "[1448319 rows x 2 columns]"
      ]
     },
     "execution_count": 15,
     "metadata": {},
     "output_type": "execute_result"
    }
   ],
   "source": [
    "df"
   ]
  },
  {
   "cell_type": "code",
   "execution_count": null,
   "id": "6ec913cc-d743-4437-8c1b-8d20c95cbea3",
   "metadata": {},
   "outputs": [],
   "source": []
  }
 ],
 "metadata": {
  "kernelspec": {
   "display_name": "Python 3 (ipykernel)",
   "language": "python",
   "name": "python3"
  },
  "language_info": {
   "codemirror_mode": {
    "name": "ipython",
    "version": 3
   },
   "file_extension": ".py",
   "mimetype": "text/x-python",
   "name": "python",
   "nbconvert_exporter": "python",
   "pygments_lexer": "ipython3",
   "version": "3.9.7"
  }
 },
 "nbformat": 4,
 "nbformat_minor": 5
}
