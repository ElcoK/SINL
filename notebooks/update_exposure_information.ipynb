{
 "cells": [
  {
   "cell_type": "code",
   "execution_count": null,
   "id": "ef443cb3-ddd3-4427-97d0-633b06cc2afb",
   "metadata": {},
   "outputs": [],
   "source": [
    "import os\n",
    "import pandas as pd\n",
    "import numpy as np\n",
    "import pygeos\n",
    "import geopandas as gpd\n",
    "from tqdm import tqdm\n",
    "import pyproj"
   ]
  },
  {
   "cell_type": "code",
   "execution_count": null,
   "id": "6357cc4e-04c2-455c-a919-204f9a0f4c7d",
   "metadata": {},
   "outputs": [],
   "source": [
    "def reproject_assets(df_ds,current_crs=\"epsg:4326\",approximate_crs = \"epsg:28992\"):\n",
    "    \"\"\"[summary]\n",
    "\n",
    "    Args:\n",
    "        df_ds ([type]): [description]\n",
    "        current_crs (str, optional): [description]. Defaults to \"epsg:3857\".\n",
    "        approximate_crs (str, optional): [description]. Defaults to \"epsg:4326\".\n",
    "\n",
    "    Returns:\n",
    "        [type]: [description]\n",
    "    \"\"\"    \n",
    "\n",
    "    geometries = df_ds['geometry']\n",
    "    coords = pygeos.get_coordinates(geometries)\n",
    "    transformer=pyproj.Transformer.from_crs(current_crs, approximate_crs,always_xy=True)\n",
    "    new_coords = transformer.transform(coords[:, 0], coords[:, 1])\n",
    "    \n",
    "    return pygeos.set_coordinates(geometries.copy(), np.array(new_coords).T) "
   ]
  },
  {
   "cell_type": "code",
   "execution_count": null,
   "id": "5cda306d-f0a9-40b4-a061-fbd426c6d147",
   "metadata": {},
   "outputs": [],
   "source": [
    "# SET PATHS\n",
    "province = 'zeeland'\n",
    "building_path = os.path.join(\"C:\\\\Data\",'OSM','feather')\n",
    "cbs_path = os.path.join(\"C://\",\"Data\",\"Bodemgebruik\")\n",
    "\n",
    "building_province_path = os.path.join(building_path,'{}.ft'.format(province))"
   ]
  },
  {
   "cell_type": "code",
   "execution_count": null,
   "id": "68d82ccb-97ca-4670-91f1-5bcfbc5ff6e7",
   "metadata": {},
   "outputs": [],
   "source": [
    "def get_use(x,omschrijving,tree):\n",
    "    try:\n",
    "        return omschrijving[tree.query(x,predicate='intersects')][0]\n",
    "    except:\n",
    "        return 'overig landgebruik'\n",
    "    \n",
    "def update_building_information(province):\n",
    "    building_path = os.path.join(\"C:\\\\Data\",'OSM','feather')\n",
    "    cbs_path = os.path.join(\"C://\",\"Data\",\"Bodemgebruik\")\n",
    "\n",
    "    building_province_path = os.path.join(building_path,'{}.ft'.format(province))\n",
    "\n",
    "    # read df_buildings\n",
    "    df_buildings = pd.read_feather(building_province_path)\n",
    "    df_buildings.geometry = pygeos.from_wkb(df_buildings.geometry.values)\n",
    "    df_buildings.geometry = reproject_assets(df_buildings)\n",
    "\n",
    "    BBG2015 = gpd.read_file(os.path.join(cbs_path,'BBG2015.shp'))\n",
    "\n",
    "    print('BBG loaded for {}'.format(province))\n",
    "\n",
    "    landuse_to_keep = ['Spoorweg', 'Hoofdweg', 'Vliegveld', 'Woongebied',\n",
    "           'Detailhandel en horeca', 'Openbare voorziening',\n",
    "           'Sociaal-culturele voorziening', 'Bedrijfsterrein', 'Stortplaats',\n",
    "           'Wrakkenopslagplaats', 'Begraafplaats', 'Delfstofwinplaats',\n",
    "           'Bouwterrein', 'Semi verhard overig terrein', 'Park en plantsoen',\n",
    "           'Sportterrein', 'Volkstuin', 'Dagrecreatief terrein',\n",
    "           'Verblijfsrecreatie', 'Glastuinbouw', 'Overig agrarisch gebruik']\n",
    "\n",
    "    BBG2015 = BBG2015.loc[BBG2015.Omschrijvi.isin(landuse_to_keep)].reset_index()    \n",
    "\n",
    "    df_BBG = pd.DataFrame(BBG2015[['Omschrijvi','geometry']].copy())\n",
    "    df_BBG.geometry = pygeos.from_shapely(df_BBG.geometry)\n",
    "\n",
    "    province_bbox = pygeos.envelope(pygeos.geometrycollections(df_buildings.geometry.values))\n",
    "    province_BBG = df_BBG.loc[pygeos.intersects(df_BBG.geometry,province_bbox)].reset_index()\n",
    "    \n",
    "    omschrijving = province_BBG.Omschrijvi.values\n",
    "\n",
    "    tree = pygeos.STRtree(province_BBG.geometry)\n",
    "\n",
    "    df_buildings['centroid'] = pygeos.centroid(df_buildings.geometry)\n",
    "        \n",
    "    tqdm.pandas(desc=province)\n",
    "    df_buildings['BBG'] = df_buildings['centroid'].progress_apply(lambda x: get_use(x,omschrijving,tree))\n",
    "\n",
    "    df_buildings.geometry = reproject_assets(df_buildings,current_crs=\"epsg:28992\",approximate_crs = \"epsg:4326\")\n",
    "    df_buildings = df_buildings.drop(['centroid'],axis=1)\n",
    "    df_buildings.geometry = pygeos.to_wkb(df_buildings.geometry)\n",
    "\n",
    "    df_buildings.to_feather(building_province_path)\n",
    "\n",
    "    return df_buildings"
   ]
  },
  {
   "cell_type": "code",
   "execution_count": null,
   "id": "e296dcac-21be-41bc-868e-1a4d852acedd",
   "metadata": {},
   "outputs": [],
   "source": [
    "test = update_building_information(province)"
   ]
  },
  {
   "cell_type": "code",
   "execution_count": null,
   "id": "be657876-54b3-43f5-90b0-183d8857fab0",
   "metadata": {},
   "outputs": [],
   "source": [
    "test.BBG.unique()"
   ]
  },
  {
   "cell_type": "code",
   "execution_count": null,
   "id": "466e9fdc-bb7c-472c-8962-f320a88ca48e",
   "metadata": {},
   "outputs": [],
   "source": []
  }
 ],
 "metadata": {
  "kernelspec": {
   "display_name": "Python 3 (ipykernel)",
   "language": "python",
   "name": "python3"
  },
  "language_info": {
   "codemirror_mode": {
    "name": "ipython",
    "version": 3
   },
   "file_extension": ".py",
   "mimetype": "text/x-python",
   "name": "python",
   "nbconvert_exporter": "python",
   "pygments_lexer": "ipython3",
   "version": "3.9.7"
  }
 },
 "nbformat": 4,
 "nbformat_minor": 5
}
