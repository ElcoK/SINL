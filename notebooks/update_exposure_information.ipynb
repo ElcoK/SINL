{
 "cells": [
  {
   "cell_type": "code",
   "execution_count": 19,
   "id": "ef443cb3-ddd3-4427-97d0-633b06cc2afb",
   "metadata": {},
   "outputs": [],
   "source": [
    "import os\n",
    "import pandas as pd\n",
    "import pygeos\n",
    "import geopandas as gpd\n",
    "from tqdm import tqdm"
   ]
  },
  {
   "cell_type": "code",
   "execution_count": 13,
   "id": "5cda306d-f0a9-40b4-a061-fbd426c6d147",
   "metadata": {},
   "outputs": [],
   "source": [
    "# SET PATHS\n",
    "province = 'zeeland'\n",
    "building_path = os.path.join(\"C:\\\\Data\",'OSM','feather')\n",
    "cbs_path = os.path.join(\"C://\",\"Data\",\"Bodemgebruik\")\n",
    "\n",
    "building_province_path = os.path.join(building_path,'{}.ft'.format(province))"
   ]
  },
  {
   "cell_type": "code",
   "execution_count": 14,
   "id": "f527963a-3a8e-4c7f-bd0f-ed55d74de870",
   "metadata": {},
   "outputs": [],
   "source": [
    "df_buildings = pd.read_feather(building_province_path)\n",
    "df_buildings.geometry = pygeos.from_wkb(df_buildings.geometry.values)"
   ]
  },
  {
   "cell_type": "code",
   "execution_count": null,
   "id": "6b6e8823-247c-4fd4-8a51-30ee9a73abc2",
   "metadata": {},
   "outputs": [],
   "source": [
    "%%time\n",
    "BBG2015 = gpd.read_file(os.path.join(cbs_path,'BBG2015.shp'))\n",
    "BBG2015 = BBG2015.to_crs(\"EPSG:4326\")"
   ]
  },
  {
   "cell_type": "code",
   "execution_count": 16,
   "id": "8152cea7-f63f-41e1-95ce-7d9040db8d36",
   "metadata": {},
   "outputs": [],
   "source": [
    "df_BBG = pd.DataFrame(BBG2015[['Omschrijvi','geometry']].copy())\n",
    "df_BBG.geometry = pygeos.from_shapely(df_BBG.geometry)"
   ]
  },
  {
   "cell_type": "code",
   "execution_count": 22,
   "id": "9c5ccb4b-0c9c-435b-b21f-0c83eb1c3764",
   "metadata": {},
   "outputs": [],
   "source": [
    "#overlay data\n",
    "tqdm.pandas()\n",
    "tree = pygeos.STRtree(df_BBG.geometry)"
   ]
  },
  {
   "cell_type": "code",
   "execution_count": 25,
   "id": "846b6bdc-1dcd-4690-b969-807177706bdd",
   "metadata": {},
   "outputs": [],
   "source": [
    "test = pygeos.centroid(df_buildings.geometry)[:100]"
   ]
  },
  {
   "cell_type": "code",
   "execution_count": 27,
   "id": "c1b0d575-9cf9-4418-abe1-74344127f763",
   "metadata": {},
   "outputs": [],
   "source": [
    "x = test.iloc[0]"
   ]
  },
  {
   "cell_type": "code",
   "execution_count": 28,
   "id": "60fbdef2-74fb-4fa6-adf4-5067d4dc87e1",
   "metadata": {},
   "outputs": [
    {
     "data": {
      "text/plain": [
       "array([], dtype=int64)"
      ]
     },
     "execution_count": 28,
     "metadata": {},
     "output_type": "execute_result"
    }
   ],
   "source": [
    "tree.query(x,predicate='intersects')"
   ]
  },
  {
   "cell_type": "code",
   "execution_count": null,
   "id": "e40595cb-546d-4f03-868e-aa631064c6ef",
   "metadata": {},
   "outputs": [],
   "source": [
    "df_buildings['BBG'] = pygeos.centroid(df_buildings.geometry).progress_apply(lambda x: df_BBG.iloc[tree.query(x,predicate='intersects')[0]]['Omschrijvi'])\n"
   ]
  }
 ],
 "metadata": {
  "kernelspec": {
   "display_name": "Python 3 (ipykernel)",
   "language": "python",
   "name": "python3"
  },
  "language_info": {
   "codemirror_mode": {
    "name": "ipython",
    "version": 3
   },
   "file_extension": ".py",
   "mimetype": "text/x-python",
   "name": "python",
   "nbconvert_exporter": "python",
   "pygments_lexer": "ipython3",
   "version": "3.9.7"
  }
 },
 "nbformat": 4,
 "nbformat_minor": 5
}
