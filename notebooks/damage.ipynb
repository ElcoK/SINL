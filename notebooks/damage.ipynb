{
 "cells": [
  {
   "cell_type": "code",
   "execution_count": 112,
   "id": "21d12006-c40c-4e13-9518-95e68d304716",
   "metadata": {},
   "outputs": [],
   "source": [
    "import os\n",
    "import pandas as pd\n",
    "import numpy as np\n",
    "import geopandas as gpd\n",
    "import pygeos\n",
    "from osgeo import ogr,gdal\n",
    "from tqdm import tqdm\n",
    "from pygeos import from_wkb\n",
    "from rasterstats import zonal_stats\n",
    "import rasterio\n",
    "import rioxarray\n",
    "import pyproj"
   ]
  },
  {
   "cell_type": "code",
   "execution_count": 113,
   "id": "b11e36ea-29b5-46fb-bc89-47b3a58c8051",
   "metadata": {},
   "outputs": [],
   "source": [
    "# SET PATHS\n",
    "province = 'zeeland'\n",
    "building_path = os.path.join(\"C:\\\\Data\",'OSM','feather')\n",
    "forecast_path = os.path.join(\"C:\\\\Data\",'forecast')\n",
    "\n",
    "building_province_path = os.path.join(building_path,'{}.ft'.format(province))"
   ]
  },
  {
   "cell_type": "code",
   "execution_count": 167,
   "id": "ede158bd-4ec0-4577-bc19-76ee38448cff",
   "metadata": {},
   "outputs": [],
   "source": [
    "def overlay_hazard_data(province,model='ECMWF',fc_time='041'):\n",
    "    building_path = os.path.join(\"C:\\\\Data\",'OSM','feather')\n",
    "    forecast_path = os.path.join(\"C:\\\\Data\",'forecast')\n",
    "    \n",
    "    building_province_path = os.path.join(building_path,'{}.ft'.format(province))\n",
    "    \n",
    "    # read buildings\n",
    "    df_buildings = pd.read_feather(building_province_path)\n",
    "    df_buildings.geometry = pygeos.from_wkb(df_buildings.geometry.values)\n",
    "    \n",
    "\n",
    "    hazard_file = os.path.join(forecast_path,'GeoTIFF',\"{}_f{}_NL.tif\".format(model,fc_time))\n",
    "        \n",
    "\n",
    "    # read hazard data in polygon format\n",
    "    rds = rioxarray.open_rasterio(hazard_file)\n",
    "    rds.name = \"data\"\n",
    "    df_ds = rds.squeeze().to_dataframe().reset_index()\n",
    "    df_ds['geometry'] = [pygeos.points(x) for x in list(zip(df_ds['x'],df_ds['y']))]\n",
    "    df_ds['geometry'] = pygeos.get_parts(pygeos.voronoi_polygons(pygeos.multipoints(df_ds.geometry)))\n",
    "    df_ds = df_ds.drop(['y','x','band','spatial_ref'],axis=1)\n",
    "   \n",
    "    #overlay data\n",
    "    tqdm.pandas(desc='hazard overlay {}'.format(province))\n",
    "    tree = pygeos.STRtree(df_ds.geometry)\n",
    "    df_buildings['windspeed'] = df_buildings.geometry.progress_apply(lambda x: df_ds.iloc[tree.query(x,predicate='intersects')[0]]['data'])\n",
    "    \n",
    "    df_buildings['province'] = province\n",
    "    #return file\n",
    "    return df_buildings"
   ]
  },
  {
   "cell_type": "code",
   "execution_count": 179,
   "id": "cd8a050d-c228-44a2-9eba-be0118ba647b",
   "metadata": {},
   "outputs": [],
   "source": [
    "def reproject_assets(df_ds,current_crs=\"epsg:4326\",approximate_crs = \"epsg:28992\"):\n",
    "    \"\"\"[summary]\n",
    "\n",
    "    Args:\n",
    "        df_ds ([type]): [description]\n",
    "        current_crs (str, optional): [description]. Defaults to \"epsg:3857\".\n",
    "        approximate_crs (str, optional): [description]. Defaults to \"epsg:4326\".\n",
    "\n",
    "    Returns:\n",
    "        [type]: [description]\n",
    "    \"\"\"    \n",
    "\n",
    "    geometries = df_ds['geometry']\n",
    "    coords = pygeos.get_coordinates(geometries)\n",
    "    transformer=pyproj.Transformer.from_crs(current_crs, approximate_crs,always_xy=True)\n",
    "    new_coords = transformer.transform(coords[:, 0], coords[:, 1])\n",
    "    \n",
    "    return pygeos.set_coordinates(geometries.copy(), np.array(new_coords).T) \n",
    "\n",
    "def get_m2(df):\n",
    "    \n",
    "    df.geometry = reproject_assets(df)\n",
    "    \n",
    "    return pygeos.area(df.geometry)\n",
    "\n",
    "def damage_estimate(province,model='ECMWF',fc_time='041'):\n",
    "    \n",
    "    overlaid = overlay_hazard_data(province,model=model,fc_time=fc_time)\n",
    "    overlaid['m2'] = get_m2(overlaid)\n",
    "    \n",
    "    damage_functions = pd.read_excel(os.path.join('..','data','wind_damage_functions.xlsx'),sheet_name='building_class_global',usecols=\"A:E\")\n",
    "    max_damage = pd.read_excel(os.path.join('..','data','wind_damage_functions.xlsx'),sheet_name='building_class_global',usecols=\"A:E\")\n",
    "    \n",
    "    curve = 'RM1L'\n",
    "    \n",
    "    max_damage = pd.read_excel(os.path.join('..','data','MaxDAM_CBS.xlsx'),sheet_name='Sheet1',usecols=\"A:C\")\n",
    "    max_damage.columns = ['BBG','Rotterdam','Top of curve (60%)']\n",
    "    max_dam_dict = dict(zip(max_damage['BBG'],max_damage['Top of curve (60%)']))\n",
    "    \n",
    "    max_values = overlaid.BBG.apply(lambda x : max_dam_dict[x]).values\n",
    "    \n",
    "    overlaid['damage_{}'.format(curve)] = (np.interp(overlaid.windspeed.values,damage_functions['Wind velocity (kph)'].values,damage_functions[curve].values)*overlaid['m2'].values*max_values)\n",
    "    \n",
    "    return overlaid"
   ]
  },
  {
   "cell_type": "code",
   "execution_count": 185,
   "id": "05656880-40f1-46a5-99bc-77e95489b146",
   "metadata": {},
   "outputs": [
    {
     "name": "stderr",
     "output_type": "stream",
     "text": [
      "hazard overlay noord_holland: 100%|████████████████████████████████████████| 1448319/1448319 [05:13<00:00, 4621.82it/s]\n",
      "hazard overlay noord_holland: 100%|████████████████████████████████████████| 1448319/1448319 [05:18<00:00, 4544.86it/s]\n",
      "hazard overlay noord_holland: 100%|████████████████████████████████████████| 1448319/1448319 [05:08<00:00, 4697.13it/s]\n"
     ]
    }
   ],
   "source": [
    "ECMWF_039 = damage_estimate('noord_holland',model='ECMWF',fc_time='039')\n",
    "ECMWF_041 = damage_estimate('noord_holland',model='ECMWF',fc_time='041')\n",
    "GFS_027 = damage_estimate('noord_holland',model='GFS',fc_time='027')"
   ]
  },
  {
   "cell_type": "code",
   "execution_count": 186,
   "id": "43b95622-03a4-4b4c-981b-00c668b4da24",
   "metadata": {},
   "outputs": [
    {
     "data": {
      "text/plain": [
       "336346013.99813026"
      ]
     },
     "execution_count": 186,
     "metadata": {},
     "output_type": "execute_result"
    }
   ],
   "source": [
    "GFS_027.damage_RM1L.sum()"
   ]
  },
  {
   "cell_type": "code",
   "execution_count": 187,
   "id": "b096499e-a559-40ed-8b36-43be43558bc4",
   "metadata": {},
   "outputs": [
    {
     "data": {
      "text/plain": [
       "30142542.753860462"
      ]
     },
     "execution_count": 187,
     "metadata": {},
     "output_type": "execute_result"
    }
   ],
   "source": [
    "ECMWF_039.damage_RM1L.sum()"
   ]
  },
  {
   "cell_type": "code",
   "execution_count": 188,
   "id": "1c099d54-5d8c-4749-a42c-0446b83d4ad0",
   "metadata": {},
   "outputs": [
    {
     "data": {
      "text/plain": [
       "29041201.977241427"
      ]
     },
     "execution_count": 188,
     "metadata": {},
     "output_type": "execute_result"
    }
   ],
   "source": [
    "ECMWF_041.damage_RM1L.sum()"
   ]
  },
  {
   "cell_type": "code",
   "execution_count": null,
   "id": "f7ea202c-a5ed-43d4-bcb6-8ed929384920",
   "metadata": {},
   "outputs": [],
   "source": []
  }
 ],
 "metadata": {
  "kernelspec": {
   "display_name": "Python 3 (ipykernel)",
   "language": "python",
   "name": "python3"
  },
  "language_info": {
   "codemirror_mode": {
    "name": "ipython",
    "version": 3
   },
   "file_extension": ".py",
   "mimetype": "text/x-python",
   "name": "python",
   "nbconvert_exporter": "python",
   "pygments_lexer": "ipython3",
   "version": "3.9.7"
  }
 },
 "nbformat": 4,
 "nbformat_minor": 5
}
